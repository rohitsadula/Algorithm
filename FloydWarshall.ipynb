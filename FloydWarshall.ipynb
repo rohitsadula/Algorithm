{
  "nbformat": 4,
  "nbformat_minor": 0,
  "metadata": {
    "colab": {
      "name": "FloydWarshall.ipynb",
      "provenance": [],
      "authorship_tag": "ABX9TyN/f0dw79jDXdDLVEpKT+8E",
      "include_colab_link": true
    },
    "kernelspec": {
      "name": "python3",
      "display_name": "Python 3"
    },
    "language_info": {
      "name": "python"
    }
  },
  "cells": [
    {
      "cell_type": "markdown",
      "metadata": {
        "id": "view-in-github",
        "colab_type": "text"
      },
      "source": [
        "<a href=\"https://colab.research.google.com/github/rohitsadula/Algorithm/blob/main/FloydWarshall.ipynb\" target=\"_parent\"><img src=\"https://colab.research.google.com/assets/colab-badge.svg\" alt=\"Open In Colab\"/></a>"
      ]
    },
    {
      "cell_type": "code",
      "execution_count": 1,
      "metadata": {
        "colab": {
          "base_uri": "https://localhost:8080/"
        },
        "id": "5qotpPiB9Fgo",
        "outputId": "a250d786-1ef9-4030-f9ed-349738f5354b"
      },
      "outputs": [
        {
          "output_type": "stream",
          "name": "stdout",
          "text": [
            "Following matrix shows the shortest distances between every pair of vertices\n",
            "      0\t\n",
            "      5\t\n",
            "      8\t\n",
            "      9\t\n",
            "\n",
            "    INF\n",
            "      0\t\n",
            "      3\t\n",
            "      4\t\n",
            "\n",
            "    INF\n",
            "    INF\n",
            "      0\t\n",
            "      1\t\n",
            "\n",
            "    INF\n",
            "    INF\n",
            "    INF\n",
            "      0\t\n",
            "\n"
          ]
        }
      ],
      "source": [
        "# Python Program for Floyd Warshall Algorithm\n",
        "\n",
        "# Number of vertices in the graph\n",
        "V = 4\n",
        "\n",
        "# Define infinity as the large\n",
        "# enough value. This value will be\n",
        "# used for vertices not connected to each other\n",
        "INF = 99999\n",
        "\n",
        "# Solves all pair shortest path\n",
        "# via Floyd Warshall Algorithm\n",
        "\n",
        "def floydWarshall(graph):\n",
        "\t\n",
        "\t\"\"\" dist[][] will be the output\n",
        "\tmatrix that will finally\n",
        "\t\thave the shortest distances\n",
        "\t\tbetween every pair of vertices \"\"\"\n",
        "\t\"\"\" initializing the solution matrix\n",
        "\tsame as input graph matrix\n",
        "\tOR we can say that the initial\n",
        "\tvalues of shortest distances\n",
        "\tare based on shortest paths considering no\n",
        "\tintermediate vertices \"\"\"\n",
        "\n",
        "\tdist = list(map(lambda i: list(map(lambda j: j, i)), graph))\n",
        "\n",
        "\t\"\"\" Add all vertices one by one\n",
        "\tto the set of intermediate\n",
        "\tvertices.\n",
        "\t---> Before start of an iteration,\n",
        "\twe have shortest distances\n",
        "\tbetween all pairs of vertices\n",
        "\tsuch that the shortest\n",
        "\tdistances consider only the\n",
        "\tvertices in the set\n",
        "\t{0, 1, 2, .. k-1} as intermediate vertices.\n",
        "\t----> After the end of a\n",
        "\titeration, vertex no. k is\n",
        "\tadded to the set of intermediate\n",
        "\tvertices and the\n",
        "\tset becomes {0, 1, 2, .. k}\n",
        "\t\"\"\"\n",
        "\tfor k in range(V):\n",
        "\n",
        "\t\t# pick all vertices as source one by one\n",
        "\t\tfor i in range(V):\n",
        "\n",
        "\t\t\t# Pick all vertices as destination for the\n",
        "\t\t\t# above picked source\n",
        "\t\t\tfor j in range(V):\n",
        "\n",
        "\t\t\t\t# If vertex k is on the shortest path from\n",
        "\t\t\t\t# i to j, then update the value of dist[i][j]\n",
        "\t\t\t\tdist[i][j] = min(dist[i][j],\n",
        "\t\t\t\t\t\t\t\tdist[i][k] + dist[k][j]\n",
        "\t\t\t\t\t\t\t\t)\n",
        "\tprintSolution(dist)\n",
        "\n",
        "\n",
        "# A utility function to print the solution\n",
        "def printSolution(dist):\n",
        "\tprint (\"Following matrix shows the shortest distances between every pair of vertices\")\n",
        "\tfor i in range(V):\n",
        "\t\tfor j in range(V):\n",
        "\t\t\tif(dist[i][j] == INF):\n",
        "\t\t\t\tprint (\"%7s\" % (\"INF\")),\n",
        "\t\t\telse:\n",
        "\t\t\t\tprint (\"%7d\\t\" % (dist[i][j])),\n",
        "\t\t\tif j == V-1:\n",
        "\t\t\t\tprint (\"\")\n",
        "\n",
        "\n",
        "# Driver program to test the above program\n",
        "# Let us create the following weighted graph\n",
        "\"\"\"\n",
        "\t\t\t10\n",
        "\t(0)------->(3)\n",
        "\t\t|\t\t /|\\\n",
        "\t5 |\t\t |\n",
        "\t\t|\t\t | 1\n",
        "\t\\|/\t\t |\n",
        "\t(1)------->(2)\n",
        "\t\t3\t\t \"\"\"\n",
        "graph = [[0, 5, INF, 10],\n",
        "\t\t          [INF, 0, 3, INF],\n",
        "\t            [INF, INF, 0, 1],\n",
        "\t            [INF, INF, INF, 0]\n",
        "\t\t          ]\n",
        "# Print the solution\n",
        "floydWarshall(graph)\n",
        "# This code is contributed by Mythri J L"
      ]
    }
  ]
}