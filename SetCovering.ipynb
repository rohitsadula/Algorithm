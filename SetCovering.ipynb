{
  "nbformat": 4,
  "nbformat_minor": 0,
  "metadata": {
    "colab": {
      "name": "SetCovering.ipynb",
      "provenance": [],
      "authorship_tag": "ABX9TyNzRO2Lh70x7e6IyaG92qgh",
      "include_colab_link": true
    },
    "kernelspec": {
      "name": "python3",
      "display_name": "Python 3"
    },
    "language_info": {
      "name": "python"
    }
  },
  "cells": [
    {
      "cell_type": "markdown",
      "metadata": {
        "id": "view-in-github",
        "colab_type": "text"
      },
      "source": [
        "<a href=\"https://colab.research.google.com/github/rohitsadula/Algorithm/blob/main/SetCovering.ipynb\" target=\"_parent\"><img src=\"https://colab.research.google.com/assets/colab-badge.svg\" alt=\"Open In Colab\"/></a>"
      ]
    },
    {
      "cell_type": "code",
      "execution_count": 1,
      "metadata": {
        "colab": {
          "base_uri": "https://localhost:8080/"
        },
        "id": "gIq8KwyW_Gs4",
        "outputId": "7920dd6f-55c8-4b67-b1ce-03734c651e43"
      },
      "outputs": [
        {
          "output_type": "stream",
          "name": "stdout",
          "text": [
            "[{1, 2, 3, 8, 9, 10}, {4, 5, 7}, {5, 6, 7}]\n"
          ]
        }
      ],
      "source": [
        "def set_cover(universe, subsets):\n",
        "    \"\"\"Find a family of subsets that covers the universal set\"\"\"\n",
        "    elements = set(e for s in subsets for e in s)\n",
        "    # Check the subsets cover the universe\n",
        "    if elements != universe:\n",
        "        return None\n",
        "    covered = set()\n",
        "    cover = []\n",
        "    # Greedily add the subsets with the most uncovered points\n",
        "    while covered != elements:\n",
        "        subset = max(subsets, key=lambda s: len(s - covered))\n",
        "        cover.append(subset)\n",
        "        covered |= subset\n",
        " \n",
        "    return cover\n",
        " \n",
        "def main():\n",
        "    universe = set(range(1, 11))\n",
        "    subsets = [set([1, 2, 3, 8, 9, 10]),\n",
        "        set([1, 2, 3, 4, 5]),\n",
        "        set([4, 5, 7]),\n",
        "        set([5, 6, 7]),\n",
        "        set([6, 7, 8, 9, 10])]\n",
        "    cover = set_cover(universe, subsets)\n",
        "    print(cover)\n",
        " \n",
        "if __name__ == '__main__':\n",
        "    main()"
      ]
    }
  ]
}