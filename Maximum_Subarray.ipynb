{
  "nbformat": 4,
  "nbformat_minor": 0,
  "metadata": {
    "colab": {
      "name": "Maximum Subarray.ipynb",
      "provenance": [],
      "authorship_tag": "ABX9TyMuPhhjL0jHBppMM/O8jpF0",
      "include_colab_link": true
    },
    "kernelspec": {
      "name": "python3",
      "display_name": "Python 3"
    },
    "language_info": {
      "name": "python"
    }
  },
  "cells": [
    {
      "cell_type": "markdown",
      "metadata": {
        "id": "view-in-github",
        "colab_type": "text"
      },
      "source": [
        "<a href=\"https://colab.research.google.com/github/rohitsadula/Algorithm/blob/main/Maximum_Subarray.ipynb\" target=\"_parent\"><img src=\"https://colab.research.google.com/assets/colab-badge.svg\" alt=\"Open In Colab\"/></a>"
      ]
    },
    {
      "cell_type": "code",
      "execution_count": 1,
      "metadata": {
        "colab": {
          "base_uri": "https://localhost:8080/"
        },
        "id": "-MD8x88M6yRC",
        "outputId": "508a3668-0525-4bfc-9d09-f39fda885274"
      },
      "outputs": [
        {
          "output_type": "stream",
          "name": "stdout",
          "text": [
            "How many elements are in list : 4\n",
            "44\n",
            "67\n",
            "43\n",
            "65\n",
            "Maximum SubArray is: 219\n",
            "Start index of max_Sum: 0\n",
            "End index of max_Sum: 3\n"
          ]
        }
      ],
      "source": [
        "def MaxSubArray(MyList):\n",
        "  max_sum = 0\n",
        "  current_sum = 0\n",
        "\n",
        "  max_start = 0\n",
        "  max_end = 0\n",
        "  current_start = 0\n",
        "  current_end = 0\n",
        "\n",
        "  for i in range(len(MyList)): \n",
        "    current_sum = current_sum + MyList[i]\n",
        "    current_end = i\n",
        "    if current_sum < 0:\n",
        "      current_sum = 0\n",
        "      # Start a new sequence from next element\n",
        "      current_start = current_end + 1\n",
        "\n",
        "    if max_sum < current_sum:\n",
        "      max_sum = current_sum\n",
        "      max_start = current_start\n",
        "      max_end = current_end\n",
        "      \n",
        "  print(\"Maximum SubArray is:\", max_sum)\n",
        "  print(\"Start index of max_Sum:\", max_start)\n",
        "  print(\"End index of max_Sum:\", max_end)\n",
        "  \n",
        "# test the code                \n",
        "MyList = [int(input()) for i in range(int(input(\"How many elements are in list : \")))]\n",
        "MaxSubArray(MyList)"
      ]
    }
  ]
}