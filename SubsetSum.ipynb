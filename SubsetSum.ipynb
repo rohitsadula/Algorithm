{
  "nbformat": 4,
  "nbformat_minor": 0,
  "metadata": {
    "colab": {
      "name": "SubsetSum.ipynb",
      "provenance": [],
      "authorship_tag": "ABX9TyOp8pCkq50Dy+J2vtCgGfMc",
      "include_colab_link": true
    },
    "kernelspec": {
      "name": "python3",
      "display_name": "Python 3"
    },
    "language_info": {
      "name": "python"
    }
  },
  "cells": [
    {
      "cell_type": "markdown",
      "metadata": {
        "id": "view-in-github",
        "colab_type": "text"
      },
      "source": [
        "<a href=\"https://colab.research.google.com/github/rohitsadula/Algorithm/blob/main/SubsetSum.ipynb\" target=\"_parent\"><img src=\"https://colab.research.google.com/assets/colab-badge.svg\" alt=\"Open In Colab\"/></a>"
      ]
    },
    {
      "cell_type": "code",
      "execution_count": 1,
      "metadata": {
        "colab": {
          "base_uri": "https://localhost:8080/"
        },
        "id": "g4l6LeHW_XYG",
        "outputId": "76c3ac34-aca5-4fc0-fddf-8a75ab5e8e87"
      },
      "outputs": [
        {
          "output_type": "stream",
          "name": "stdout",
          "text": [
            "Found a subset with given sum\n"
          ]
        }
      ],
      "source": [
        "# A recursive solution for subset sum \n",
        "# problem \n",
        "  \n",
        "# Returns true if there is a subset  \n",
        "# of set[] with sun equal to given sum \n",
        "def isSubsetSum(set,n, sum) : \n",
        "    \n",
        "    # Base Cases \n",
        "    if (sum == 0) : \n",
        "        return True\n",
        "    if (n == 0 and sum != 0) : \n",
        "        return False\n",
        "   \n",
        "    # If last element is greater than \n",
        "    # sum, then ignore it \n",
        "    if (set[n - 1] > sum) : \n",
        "        return isSubsetSum(set, n - 1, sum); \n",
        "   \n",
        "    # else, check if sum can be obtained \n",
        "    # by any of the following \n",
        "    # (a) including the last element \n",
        "    # (b) excluding the last element    \n",
        "    return isSubsetSum(set, n-1, sum) or isSubsetSum(set, n-1, sum-set[n-1]) \n",
        "      \n",
        "      \n",
        "# Driver program to test above function \n",
        "set = [3, 34, 4, 12, 5, 2] \n",
        "sum = 9\n",
        "n = len(set) \n",
        "if (isSubsetSum(set, n, sum) == True) : \n",
        "    print(\"Found a subset with given sum\") \n",
        "else : \n",
        "    print(\"No subset with given sum\")"
      ]
    }
  ]
}